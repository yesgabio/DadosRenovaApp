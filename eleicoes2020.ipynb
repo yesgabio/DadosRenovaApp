{
 "cells": [
  {
   "cell_type": "code",
   "execution_count": 7,
   "metadata": {},
   "outputs": [
    {
     "data": {
      "text/markdown": [
       "# CANOAS - SEGUNDO TURNO"
      ],
      "text/plain": [
       "<IPython.core.display.Markdown object>"
      ]
     },
     "metadata": {},
     "output_type": "display_data"
    },
    {
     "data": {
      "text/markdown": [
       "## Prefeito"
      ],
      "text/plain": [
       "<IPython.core.display.Markdown object>"
      ]
     },
     "metadata": {},
     "output_type": "display_data"
    },
    {
     "data": {
      "text/html": [
       "<div>\n",
       "<style scoped>\n",
       "    .dataframe tbody tr th:only-of-type {\n",
       "        vertical-align: middle;\n",
       "    }\n",
       "\n",
       "    .dataframe tbody tr th {\n",
       "        vertical-align: top;\n",
       "    }\n",
       "\n",
       "    .dataframe thead th {\n",
       "        text-align: right;\n",
       "    }\n",
       "</style>\n",
       "<table border=\"1\" class=\"dataframe\">\n",
       "  <thead>\n",
       "    <tr style=\"text-align: right;\">\n",
       "      <th></th>\n",
       "      <th>name</th>\n",
       "      <th>partido</th>\n",
       "      <th>votação</th>\n",
       "    </tr>\n",
       "  </thead>\n",
       "  <tbody>\n",
       "    <tr>\n",
       "      <th>0</th>\n",
       "      <td>JAIRO JORGE DA SILVA</td>\n",
       "      <td>PSD</td>\n",
       "      <td>82137</td>\n",
       "    </tr>\n",
       "  </tbody>\n",
       "</table>\n",
       "</div>"
      ],
      "text/plain": [
       "                   name partido votação\n",
       "0  JAIRO JORGE DA SILVA     PSD   82137"
      ]
     },
     "metadata": {},
     "output_type": "display_data"
    },
    {
     "data": {
      "text/markdown": [
       "# CAXIAS DO SUL - SEGUNDO TURNO"
      ],
      "text/plain": [
       "<IPython.core.display.Markdown object>"
      ]
     },
     "metadata": {},
     "output_type": "display_data"
    },
    {
     "data": {
      "text/markdown": [
       "## Prefeito"
      ],
      "text/plain": [
       "<IPython.core.display.Markdown object>"
      ]
     },
     "metadata": {},
     "output_type": "display_data"
    },
    {
     "data": {
      "text/html": [
       "<div>\n",
       "<style scoped>\n",
       "    .dataframe tbody tr th:only-of-type {\n",
       "        vertical-align: middle;\n",
       "    }\n",
       "\n",
       "    .dataframe tbody tr th {\n",
       "        vertical-align: top;\n",
       "    }\n",
       "\n",
       "    .dataframe thead th {\n",
       "        text-align: right;\n",
       "    }\n",
       "</style>\n",
       "<table border=\"1\" class=\"dataframe\">\n",
       "  <thead>\n",
       "    <tr style=\"text-align: right;\">\n",
       "      <th></th>\n",
       "      <th>name</th>\n",
       "      <th>partido</th>\n",
       "      <th>votação</th>\n",
       "    </tr>\n",
       "  </thead>\n",
       "  <tbody>\n",
       "    <tr>\n",
       "      <th>0</th>\n",
       "      <td>ADILÓ ANGELO DIDOMENICO</td>\n",
       "      <td>PSDB</td>\n",
       "      <td>136590</td>\n",
       "    </tr>\n",
       "  </tbody>\n",
       "</table>\n",
       "</div>"
      ],
      "text/plain": [
       "                      name partido votação\n",
       "0  ADILÓ ANGELO DIDOMENICO    PSDB  136590"
      ]
     },
     "metadata": {},
     "output_type": "display_data"
    },
    {
     "data": {
      "text/markdown": [
       "# PELOTAS - SEGUNDO TURNO"
      ],
      "text/plain": [
       "<IPython.core.display.Markdown object>"
      ]
     },
     "metadata": {},
     "output_type": "display_data"
    },
    {
     "data": {
      "text/markdown": [
       "## Prefeito"
      ],
      "text/plain": [
       "<IPython.core.display.Markdown object>"
      ]
     },
     "metadata": {},
     "output_type": "display_data"
    },
    {
     "data": {
      "text/html": [
       "<div>\n",
       "<style scoped>\n",
       "    .dataframe tbody tr th:only-of-type {\n",
       "        vertical-align: middle;\n",
       "    }\n",
       "\n",
       "    .dataframe tbody tr th {\n",
       "        vertical-align: top;\n",
       "    }\n",
       "\n",
       "    .dataframe thead th {\n",
       "        text-align: right;\n",
       "    }\n",
       "</style>\n",
       "<table border=\"1\" class=\"dataframe\">\n",
       "  <thead>\n",
       "    <tr style=\"text-align: right;\">\n",
       "      <th></th>\n",
       "      <th>name</th>\n",
       "      <th>partido</th>\n",
       "      <th>votação</th>\n",
       "    </tr>\n",
       "  </thead>\n",
       "  <tbody>\n",
       "    <tr>\n",
       "      <th>0</th>\n",
       "      <td>PAULA SCHILD MASCARENHAS</td>\n",
       "      <td>PSDB</td>\n",
       "      <td>105206</td>\n",
       "    </tr>\n",
       "  </tbody>\n",
       "</table>\n",
       "</div>"
      ],
      "text/plain": [
       "                       name partido votação\n",
       "0  PAULA SCHILD MASCARENHAS    PSDB  105206"
      ]
     },
     "metadata": {},
     "output_type": "display_data"
    },
    {
     "data": {
      "text/markdown": [
       "# PORTO ALEGRE - SEGUNDO TURNO"
      ],
      "text/plain": [
       "<IPython.core.display.Markdown object>"
      ]
     },
     "metadata": {},
     "output_type": "display_data"
    },
    {
     "data": {
      "text/markdown": [
       "## Prefeito"
      ],
      "text/plain": [
       "<IPython.core.display.Markdown object>"
      ]
     },
     "metadata": {},
     "output_type": "display_data"
    },
    {
     "data": {
      "text/html": [
       "<div>\n",
       "<style scoped>\n",
       "    .dataframe tbody tr th:only-of-type {\n",
       "        vertical-align: middle;\n",
       "    }\n",
       "\n",
       "    .dataframe tbody tr th {\n",
       "        vertical-align: top;\n",
       "    }\n",
       "\n",
       "    .dataframe thead th {\n",
       "        text-align: right;\n",
       "    }\n",
       "</style>\n",
       "<table border=\"1\" class=\"dataframe\">\n",
       "  <thead>\n",
       "    <tr style=\"text-align: right;\">\n",
       "      <th></th>\n",
       "      <th>name</th>\n",
       "      <th>partido</th>\n",
       "      <th>votação</th>\n",
       "    </tr>\n",
       "  </thead>\n",
       "  <tbody>\n",
       "    <tr>\n",
       "      <th>0</th>\n",
       "      <td>SEBASTIÃO DE ARAÚJO MELO</td>\n",
       "      <td>MDB</td>\n",
       "      <td>370550</td>\n",
       "    </tr>\n",
       "  </tbody>\n",
       "</table>\n",
       "</div>"
      ],
      "text/plain": [
       "                       name partido votação\n",
       "0  SEBASTIÃO DE ARAÚJO MELO     MDB  370550"
      ]
     },
     "metadata": {},
     "output_type": "display_data"
    },
    {
     "data": {
      "text/markdown": [
       "# SANTA MARIA - SEGUNDO TURNO"
      ],
      "text/plain": [
       "<IPython.core.display.Markdown object>"
      ]
     },
     "metadata": {},
     "output_type": "display_data"
    },
    {
     "data": {
      "text/markdown": [
       "## Prefeito"
      ],
      "text/plain": [
       "<IPython.core.display.Markdown object>"
      ]
     },
     "metadata": {},
     "output_type": "display_data"
    },
    {
     "data": {
      "text/html": [
       "<div>\n",
       "<style scoped>\n",
       "    .dataframe tbody tr th:only-of-type {\n",
       "        vertical-align: middle;\n",
       "    }\n",
       "\n",
       "    .dataframe tbody tr th {\n",
       "        vertical-align: top;\n",
       "    }\n",
       "\n",
       "    .dataframe thead th {\n",
       "        text-align: right;\n",
       "    }\n",
       "</style>\n",
       "<table border=\"1\" class=\"dataframe\">\n",
       "  <thead>\n",
       "    <tr style=\"text-align: right;\">\n",
       "      <th></th>\n",
       "      <th>name</th>\n",
       "      <th>partido</th>\n",
       "      <th>votação</th>\n",
       "    </tr>\n",
       "  </thead>\n",
       "  <tbody>\n",
       "    <tr>\n",
       "      <th>0</th>\n",
       "      <td>JORGE CLADISTONE POZZOBOM</td>\n",
       "      <td>PSDB</td>\n",
       "      <td>71927</td>\n",
       "    </tr>\n",
       "  </tbody>\n",
       "</table>\n",
       "</div>"
      ],
      "text/plain": [
       "                        name partido votação\n",
       "0  JORGE CLADISTONE POZZOBOM    PSDB   71927"
      ]
     },
     "metadata": {},
     "output_type": "display_data"
    }
   ],
   "source": [
    "from lxml.html import fromstring\n",
    "import requests\n",
    "import pandas as pd\n",
    "from IPython.display import Markdown\n",
    "\n",
    "\n",
    "\n",
    "#LISTA DE CIDADES, NUMERO IDENTIFICADOR E URL DE ACESSO.\n",
    "url = 'https://resultados.tre-rs.jus.br/eleicoes/2020/426/'\n",
    "req = requests.get(url)\n",
    "root = fromstring(req.text)\n",
    "ul = root.xpath('.//ul[@id=\"main_ul\"]')[0]\n",
    "cities = []\n",
    "for li in ul.xpath('.//li')[0:]:\n",
    "    cities.append({\n",
    "        'name': li.xpath('.//a')[0].text_content(),\n",
    "        'href': li.xpath('.//a')[0].attrib['href'],\n",
    "        'url': url + li.xpath('.//a')[0].attrib['href']\n",
    "    })\n",
    "\n",
    "# IMPRIMIR EM FORMATO DE TABELA AS INFORMAÇÕES DAS CIDADES\n",
    "#display(pd.DataFrame(cities)) \n",
    "\n",
    "# VARRE TODAS AS CIDADES E VERIFICA OS ELEITOS\n",
    "for index, city in enumerate(cities):\n",
    "    url = cities[index][\"url\"]\n",
    "    req = requests.get(url)\n",
    "    root = fromstring(req.text)\n",
    "    tables = root.xpath('.//table[@summary=\"Votação no município\"]')\n",
    "    h2_s = root.xpath('.//h2')\n",
    "    data = []\n",
    "    eleitos_class = [\"lr_even eleito \", \"eleito \"]\n",
    "    city = cities[index][\"name\"]\n",
    "    for index,table in enumerate(tables):\n",
    "        data.append({\n",
    "            'city': city,\n",
    "            'title': h2_s[index].text_content(),\n",
    "            'values': []\n",
    "        })\n",
    "        for classe in eleitos_class:\n",
    "            for tr in table.xpath(f'.//tr[@class=\"{classe}\"]'):\n",
    "                data[-1]['values'].append({ \n",
    "                'name': tr.xpath('.//a')[0].text_content(),\n",
    "                'partido': tr.xpath('.//td')[3].text_content(),\n",
    "                'votação': tr.xpath('.//td')[4].text_content()\n",
    "            })\n",
    "    \n",
    "    # IMPRIMIR AS INFORMAÇÕES EM FORMATO DE TABELA\n",
    "    for d in data:\n",
    "        display(Markdown(f\"# {d['city']}\"))\n",
    "        display(Markdown(f\"## {d['title']}\"))\n",
    "        display(pd.DataFrame(d['values']))\n",
    "        \n",
    "#VARRE O SEGUNDO TURNO\n",
    "url2 = 'https://resultados.tre-rs.jus.br/eleicoes/2020/427/'\n",
    "req2 = requests.get(url2)\n",
    "root = fromstring(req2.text)\n",
    "ul = root.xpath('.//ul[@id=\"main_ul\"]')[0]\n",
    "cities2 = []\n",
    "for li in ul.xpath('.//li')[0:]:\n",
    "    cities2.append({\n",
    "        'name': li.xpath('.//a')[0].text_content(),\n",
    "        'href': li.xpath('.//a')[0].attrib['href'],\n",
    "        'url2': url2 + li.xpath('.//a')[0].attrib['href']\n",
    "    })\n",
    "for index, city2 in enumerate(cities2):\n",
    "    url2 = cities2[index][\"url2\"]\n",
    "    req = requests.get(url2)\n",
    "    root = fromstring(req.text)\n",
    "    tables = root.xpath('.//table[@summary=\"Votação no município\"]')\n",
    "    h2_s = root.xpath('.//h2')\n",
    "    data = []\n",
    "    eleitos_class = [\"lr_even eleito \", \"eleito \"]\n",
    "    city2 = cities2[index][\"name\"]\n",
    "    for index,table in enumerate(tables):\n",
    "        data.append({\n",
    "            'city': city2,\n",
    "            'title': h2_s[index].text_content(),\n",
    "            'values': []\n",
    "        })\n",
    "        for classe in eleitos_class:\n",
    "            for tr in table.xpath(f'.//tr[@class=\"{classe}\"]'):\n",
    "                data[-1]['values'].append({ \n",
    "                'name': tr.xpath('.//a')[0].text_content(),\n",
    "                'partido': tr.xpath('.//td')[3].text_content(),\n",
    "                'votação': tr.xpath('.//td')[4].text_content()\n",
    "            })\n",
    "    \n",
    "    # IMPRIMIR AS INFORMAÇÕES EM FORMATO DE TABELA\n",
    "    for d in data:\n",
    "        display(Markdown(f\"# {d['city']} - SEGUNDO TURNO\"))\n",
    "        display(Markdown(f\"## {d['title']}\"))\n",
    "        display(pd.DataFrame(d['values']))"
   ]
  }
 ],
 "metadata": {
  "kernelspec": {
   "display_name": "Python 3.10.4 64-bit",
   "language": "python",
   "name": "python3"
  },
  "language_info": {
   "codemirror_mode": {
    "name": "ipython",
    "version": 3
   },
   "file_extension": ".py",
   "mimetype": "text/x-python",
   "name": "python",
   "nbconvert_exporter": "python",
   "pygments_lexer": "ipython3",
   "version": "3.10.4"
  },
  "orig_nbformat": 4,
  "vscode": {
   "interpreter": {
    "hash": "369f2c481f4da34e4445cda3fffd2e751bd1c4d706f27375911949ba6bb62e1c"
   }
  }
 },
 "nbformat": 4,
 "nbformat_minor": 2
}
